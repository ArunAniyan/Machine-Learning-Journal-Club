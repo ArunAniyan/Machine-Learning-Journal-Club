{
 "cells": [
  {
   "cell_type": "markdown",
   "metadata": {},
   "source": [
    "# Make a simple convolutional neural network and train / test on MNIST Digits data\n",
    "\n",
    "- Arun Aniyan\n",
    "- arun@ska.ac.za\n",
    "- SKA SA"
   ]
  },
  {
   "cell_type": "code",
   "execution_count": 1,
   "metadata": {
    "collapsed": false
   },
   "outputs": [
    {
     "name": "stdout",
     "output_type": "stream",
     "text": [
      "Couldn't import dot_parser, loading of dot files will not be possible.\n"
     ]
    },
    {
     "name": "stderr",
     "output_type": "stream",
     "text": [
      "/home/arun/.local/lib/python2.7/site-packages/matplotlib/font_manager.py:273: UserWarning: Matplotlib is building the font cache using fc-list. This may take a moment.\n",
      "  warnings.warn('Matplotlib is building the font cache using fc-list. This may take a moment.')\n"
     ]
    },
    {
     "name": "stdout",
     "output_type": "stream",
     "text": [
      "Populating the interactive namespace from numpy and matplotlib\n"
     ]
    },
    {
     "name": "stderr",
     "output_type": "stream",
     "text": [
      "WARNING: pylab import has clobbered these variables: ['pylab']\n",
      "`%matplotlib` prevents importing * from pylab and numpy\n"
     ]
    }
   ],
   "source": [
    "from sklearn import datasets, cross_validation\n",
    "from sknn.mlp import Classifier, Layer, Convolution\n",
    "import matplotlib.pyplot as pylab\n",
    "%pylab inline"
   ]
  },
  {
   "cell_type": "code",
   "execution_count": 2,
   "metadata": {
    "collapsed": true
   },
   "outputs": [],
   "source": [
    "# Load the data and split it into subsets for training and testing.\n",
    "digits = datasets.load_digits()\n",
    "X = digits.images\n",
    "y = digits.target\n",
    "\n",
    "X_train, X_test, y_train, y_test = cross_validation.train_test_split(X, y, test_size=0.2)\n"
   ]
  },
  {
   "cell_type": "markdown",
   "metadata": {},
   "source": [
    "#### The Convolutional Neural Network\n",
    "This will be simple network with two convolutional layers, a ReLU layer and the Softmax layer to get the probability"
   ]
  },
  {
   "cell_type": "code",
   "execution_count": 3,
   "metadata": {
    "collapsed": false
   },
   "outputs": [
    {
     "name": "stderr",
     "output_type": "stream",
     "text": [
      "/usr/local/lib/python2.7/dist-packages/theano/tensor/signal/downsample.py:6: UserWarning: downsample module has been moved to the theano.tensor.signal.pool module.\n",
      "  \"downsample module has been moved to the theano.tensor.signal.pool module.\")\n",
      "/usr/local/lib/python2.7/dist-packages/lasagne/layers/conv.py:489: UserWarning: The `image_shape` keyword argument to `tensor.nnet.conv2d` is deprecated, it has been renamed to `input_shape`.\n",
      "  border_mode=border_mode)\n"
     ]
    },
    {
     "name": "stdout",
     "output_type": "stream",
     "text": []
    },
    {
     "data": {
      "text/plain": [
       "Classifier(batch_size=1, callback=None, debug=False, dropout_rate=None,\n",
       "      f_stable=0.001,\n",
       "      hidden0=<sknn.nn.Convolution `Rectifier`: channels=8, scale_factor=(1, 1), name=u'hidden0', frozen=False, kernel_shape=(3, 3), kernel_stride=(1, 1), pool_shape=(1, 1), border_mode='valid'>,\n",
       "      hidden1=<sknn.nn.Convolution `Rectifier`: channels=10, scale_factor=(1, 1), name=u'hidden1', frozen=False, kernel_shape=(3, 3), kernel_stride=(1, 1), pool_shape=(1, 1), border_mode='valid'>,\n",
       "      hidden2=<sknn.nn.Layer `Rectifier`: units=64, name=u'hidden2', frozen=False>,\n",
       "      layers=[<sknn.nn.Convolution `Rectifier`: channels=8, scale_factor=(1, 1), name=u'hidden0', frozen=False, kernel_shape=(3, 3), kernel_stride=(1, 1), pool_shape=(1, 1), border_mode='valid'>, <sknn.nn.Convolution `Rectifier`: channels=10, scale_factor=(1, 1), name=u'hidden1', frozen=False, kernel_shap..., name=u'hidden2', frozen=False>, <sknn.nn.Layer `Softmax`: units=10, name=u'output', frozen=False>],\n",
       "      learning_momentum=0.9, learning_rate=0.002, learning_rule=u'sgd',\n",
       "      loss_type=None, n_iter=None, n_stable=10,\n",
       "      output=<sknn.nn.Layer `Softmax`: units=10, name=u'output', frozen=False>,\n",
       "      random_state=None, regularize=None,\n",
       "      valid_set=(array([[[[  0.,   0., ...,   0.,   0.],\n",
       "         [  0.,   0., ...,   0.,   0.],\n",
       "         ...,\n",
       "         [  0.,   5., ...,   4.,   0.],\n",
       "         [  0.,   0., ...,   9.,   0.]]],\n",
       "\n",
       "\n",
       "       [[[  0.,   0., ...,   0.,   0.],\n",
       "         [  0.,   0., ...,   0.,   0.],\n",
       "         ...,\n",
       "         [  0.,..., ...,  0.,  1.],\n",
       "       ...,\n",
       "       [ 0.,  0., ...,  0.,  0.],\n",
       "       [ 0.,  1., ...,  0.,  0.]])),\n",
       "      valid_size=0.2, verbose=True, warning=None, weight_decay=None,\n",
       "      weights=None)"
      ]
     },
     "execution_count": 3,
     "metadata": {},
     "output_type": "execute_result"
    }
   ],
   "source": [
    "# Create a neural network that uses convolution to scan the input images.\n",
    "nn = Classifier(\n",
    "    layers=[\n",
    "        Convolution('Rectifier', channels=8, kernel_shape=(3, 3), border_mode='valid'),\n",
    "        Convolution('Rectifier', channels=10, kernel_shape=(3, 3), border_mode='valid'),\n",
    "        Layer('Rectifier', units=64),\n",
    "        Layer('Softmax')],\n",
    "    learning_rate=0.002,\n",
    "    valid_size=0.2,\n",
    "    n_stable=10,\n",
    "    verbose=True)\n",
    "\n",
    "# Train the network\n",
    "nn.fit(X_train, y_train)\n"
   ]
  },
  {
   "cell_type": "code",
   "execution_count": 4,
   "metadata": {
    "collapsed": false
   },
   "outputs": [
    {
     "name": "stdout",
     "output_type": "stream",
     "text": [
      "('TRAIN SCORE', 0.98816979819067496)\n",
      "('TEST SCORE', 0.96666666666666667)\n"
     ]
    }
   ],
   "source": [
    "# Determine how well it does on training data and unseen test data.\n",
    "print('TRAIN SCORE', nn.score(X_train, y_train))\n",
    "print('TEST SCORE', nn.score(X_test, y_test))\n",
    "\n",
    "y_pred = nn.predict(X_test)\n",
    "\n"
   ]
  },
  {
   "cell_type": "code",
   "execution_count": 5,
   "metadata": {
    "collapsed": false
   },
   "outputs": [
    {
     "data": {
      "image/png": "[encoded data removed]",
      "text/plain": [
       "<matplotlib.figure.Figure at 0x7ff82a965f50>"
      ]
     },
     "metadata": {},
     "output_type": "display_data"
    }
   ],
   "source": [
    "\n",
    "for index, (image, label) in enumerate(zip(digits.images[:6], digits.target[:6])):\n",
    "    pylab.subplot(2, 6, index + 1)\n",
    "    pylab.axis('off')\n",
    "    pylab.imshow(image, cmap=pylab.cm.gray_r, interpolation='nearest')\n",
    "    pylab.title('Train: %i' % label)\n",
    "\n",
    "for index, (image, prediction) in enumerate(zip(X_test[:6], y_pred[:6])):\n",
    "    pylab.subplot(2, 6, index + 7)\n",
    "    pylab.axis('off')\n",
    "    pylab.imshow(image.reshape((8,8)), cmap=pylab.cm.gray_r, interpolation='nearest')\n",
    "    pylab.title('Pred: %i' % prediction)\n",
    "\n"
   ]
  },
  {
   "cell_type": "code",
   "execution_count": null,
   "metadata": {
    "collapsed": true
   },
   "outputs": [],
   "source": []
  }
 ],
 "metadata": {
  "kernelspec": {
   "display_name": "Python 2",
   "language": "python",
   "name": "python2"
  },
  "language_info": {
   "codemirror_mode": {
    "name": "ipython",
    "version": 2
   },
   "file_extension": ".py",
   "mimetype": "text/x-python",
   "name": "python",
   "nbconvert_exporter": "python",
   "pygments_lexer": "ipython2",
   "version": "2.7.11+"
  }
 },
 "nbformat": 4,
 "nbformat_minor": 0
}
